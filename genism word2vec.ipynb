{
 "cells": [
  {
   "cell_type": "markdown",
   "id": "6b27d63e",
   "metadata": {},
   "source": [
    "### option2 : Training own word2vec model "
   ]
  },
  {
   "cell_type": "code",
   "execution_count": 1,
   "id": "7526cf27",
   "metadata": {},
   "outputs": [],
   "source": [
    "# defined tokenized sentences as a training data\n",
    "tokenized_sentences = [['Hello', 'This', 'is', 'python', 'training', 'by', 'aman'],\n",
    "                      ['Hello','This','is','Java','training','by','aman'],\n",
    "                      ['Hello','This','is','Data Science','training','by','unfold','data','science'],\n",
    "                      ['Hello','This','is','programming','training','']]"
   ]
  },
  {
   "cell_type": "code",
   "execution_count": 2,
   "id": "eac7c30f",
   "metadata": {},
   "outputs": [],
   "source": [
    "# training word2vec model\n",
    "from gensim.models import Word2Vec\n",
    "import warnings\n",
    "warnings.filterwarnings('ignore')\n",
    "mymodel = Word2Vec(tokenized_sentences, min_count=1)"
   ]
  },
  {
   "cell_type": "code",
   "execution_count": 3,
   "id": "4ac4f0ec",
   "metadata": {},
   "outputs": [
    {
     "name": "stdout",
     "output_type": "stream",
     "text": [
      "Word2Vec(vocab=14, size=100, alpha=0.025)\n"
     ]
    }
   ],
   "source": [
    "# Summarizing the loaded model\n",
    "print(mymodel)"
   ]
  },
  {
   "cell_type": "code",
   "execution_count": 5,
   "id": "1bcaab25",
   "metadata": {},
   "outputs": [],
   "source": [
    "# summarize vocabulary\n",
    "words = list(mymodel.wv.vocab)"
   ]
  },
  {
   "cell_type": "code",
   "execution_count": 6,
   "id": "75422a28",
   "metadata": {},
   "outputs": [
    {
     "name": "stdout",
     "output_type": "stream",
     "text": [
      "['Hello', 'This', 'is', 'python', 'training', 'by', 'aman', 'Java', 'Data Science', 'unfold', 'data', 'science', 'programming', '']\n"
     ]
    }
   ],
   "source": [
    "print(words)"
   ]
  },
  {
   "cell_type": "code",
   "execution_count": 7,
   "id": "7e0e75aa",
   "metadata": {},
   "outputs": [
    {
     "name": "stdout",
     "output_type": "stream",
     "text": [
      "[ 1.7652006e-03  4.2132447e-03  2.7331195e-03  1.2549865e-03\n",
      " -4.2115119e-03  4.3915445e-03  3.3015842e-03  4.5203082e-03\n",
      " -9.0714358e-04  4.2450163e-03 -4.7139265e-04  7.7937159e-04\n",
      " -4.6052318e-03  7.7136169e-04  3.5639168e-03  3.5037040e-03\n",
      " -1.1604426e-03 -3.9611515e-03 -2.8210229e-03 -1.5761516e-03\n",
      "  1.1480581e-03 -4.8129722e-03  1.7730580e-03  1.8463003e-03\n",
      "  9.2621770e-04 -3.4174565e-03  4.3649445e-03 -1.2241554e-03\n",
      "  2.6112152e-03 -1.4875482e-03  4.6623074e-03 -2.9707763e-03\n",
      " -4.2576655e-03  4.6593715e-03 -2.4806480e-03 -6.2086200e-04\n",
      "  1.5933268e-03 -4.1002943e-03 -8.1407739e-04  4.9769813e-03\n",
      " -4.0604390e-04 -4.7034146e-03  7.6764665e-04  2.4228627e-03\n",
      "  4.8451624e-03  4.8018512e-03 -1.6798589e-03  2.7910552e-03\n",
      "  4.6154265e-03  3.7186374e-03 -3.9215353e-03 -4.2517749e-03\n",
      "  1.3932454e-03 -1.0507343e-03  2.9044992e-03 -2.3074129e-03\n",
      "  1.0726132e-03 -3.2585831e-03 -3.4364329e-03  1.5551604e-03\n",
      " -8.6220043e-06 -3.6030198e-03 -1.3437431e-03  3.4774707e-03\n",
      "  1.2288950e-04 -4.4687162e-03 -3.9154692e-03 -3.4294746e-04\n",
      "  9.9387672e-04 -3.7467252e-03 -2.2682182e-03  1.7090936e-03\n",
      " -2.3559125e-03  1.9662830e-03 -1.8074167e-03 -1.2137748e-03\n",
      " -1.2345451e-03  3.5960457e-04  3.6188730e-03  2.2038252e-03\n",
      "  4.2539225e-03 -4.2424309e-03 -2.5998109e-03  3.0957554e-03\n",
      "  3.9032197e-03 -1.5997601e-03 -2.3580694e-03 -1.4788394e-03\n",
      "  3.2021219e-03  7.3219801e-04  9.6034695e-04  4.7400091e-03\n",
      " -2.2240989e-03 -2.2796059e-03  6.0320593e-04  2.8215505e-05\n",
      "  1.7192465e-03  1.5128866e-03  3.1732386e-03  4.8883599e-03]\n"
     ]
    }
   ],
   "source": [
    "#access word vector for one word \"training\"\n",
    "print(mymodel['training'])"
   ]
  },
  {
   "cell_type": "code",
   "execution_count": 11,
   "id": "2e3a8138",
   "metadata": {},
   "outputs": [
    {
     "data": {
      "text/plain": [
       "[('Data Science', 0.21103496849536896),\n",
       " ('', 0.16730409860610962),\n",
       " ('is', 0.14476194977760315),\n",
       " ('science', 0.13703784346580505),\n",
       " ('Java', 0.12803393602371216),\n",
       " ('training', 0.08047150075435638),\n",
       " ('aman', 0.07607199996709824),\n",
       " ('by', 0.06819257140159607),\n",
       " ('Hello', 0.052879899740219116),\n",
       " ('This', 0.02246938645839691)]"
      ]
     },
     "execution_count": 11,
     "metadata": {},
     "output_type": "execute_result"
    }
   ],
   "source": [
    "# try finding most similar words for \"Data\"\n",
    "mymodel.most_similar(\"data\")"
   ]
  },
  {
   "cell_type": "markdown",
   "id": "01921524",
   "metadata": {},
   "source": [
    "### option 3: Create Embedding model using keras Embedding"
   ]
  },
  {
   "cell_type": "code",
   "execution_count": 13,
   "id": "c3160328",
   "metadata": {},
   "outputs": [],
   "source": [
    "from numpy import array\n",
    "from keras.preprocessing.text import one_hot\n",
    "from keras.preprocessing.sequence import pad_sequences\n",
    "from keras.models import Sequential\n",
    "from keras.layers import Dense\n",
    "from keras.layers import Flatten\n",
    "from keras.layers.embeddings import Embedding"
   ]
  },
  {
   "cell_type": "code",
   "execution_count": 14,
   "id": "05c74d13",
   "metadata": {},
   "outputs": [],
   "source": [
    "#define documents\n",
    "sent = ['Hello, how are you',\n",
    "       'how are you',\n",
    "       'how are you doing',\n",
    "       'I am Doing great',\n",
    "       'I am doing good',\n",
    "       'I am good']"
   ]
  },
  {
   "cell_type": "code",
   "execution_count": 15,
   "id": "5ba6046b",
   "metadata": {},
   "outputs": [],
   "source": [
    "# defining class labels\n",
    "sent_labels = array([1,1,1,0,0,0])"
   ]
  },
  {
   "cell_type": "code",
   "execution_count": 16,
   "id": "027883d6",
   "metadata": {},
   "outputs": [
    {
     "name": "stdout",
     "output_type": "stream",
     "text": [
      "[[14, 16, 7, 17], [16, 7, 17], [16, 7, 17, 2], [18, 29, 2, 17], [18, 29, 2, 27], [18, 29, 27]]\n"
     ]
    }
   ],
   "source": [
    "# integer encoding of the documents\n",
    "my_vocab_size = 30\n",
    "encoded_sent = [one_hot(i, my_vocab_size) for i in sent]\n",
    "print(encoded_sent)"
   ]
  },
  {
   "cell_type": "code",
   "execution_count": 17,
   "id": "2d9a1324",
   "metadata": {},
   "outputs": [
    {
     "name": "stdout",
     "output_type": "stream",
     "text": [
      "[[ 0 14 16  7 17]\n",
      " [ 0  0 16  7 17]\n",
      " [ 0 16  7 17  2]\n",
      " [ 0 18 29  2 17]\n",
      " [ 0 18 29  2 27]\n",
      " [ 0  0 18 29 27]]\n"
     ]
    }
   ],
   "source": [
    "# padding documents to a max length=5\n",
    "length = 5\n",
    "padded_sent = pad_sequences(encoded_sent, maxlen=length, padding='pre')\n",
    "print(padded_sent)"
   ]
  },
  {
   "cell_type": "code",
   "execution_count": 46,
   "id": "120bedd4",
   "metadata": {},
   "outputs": [],
   "source": [
    "#defining the model\n",
    "mymodel = Sequential()\n",
    "mymodel.add(Embedding(my_vocab_size, 8, input_length=length))\n",
    "mymodel.add(Flatten())\n",
    "mymodel.add(Dense(1, activation='sigmoid'))"
   ]
  },
  {
   "cell_type": "code",
   "execution_count": 21,
   "id": "20d4252c",
   "metadata": {},
   "outputs": [],
   "source": [
    "# compiling the model\n",
    "mymodel.compile(optimizer='adam', loss='binary_crossentropy', metrics=['accuracy'])"
   ]
  },
  {
   "cell_type": "code",
   "execution_count": 23,
   "id": "006a7c69",
   "metadata": {},
   "outputs": [
    {
     "name": "stdout",
     "output_type": "stream",
     "text": [
      "Epoch 1/30\n",
      "1/1 [==============================] - 3s 3s/step - loss: 0.6822 - accuracy: 0.6667\n",
      "Epoch 2/30\n",
      "1/1 [==============================] - 0s 2ms/step - loss: 0.6799 - accuracy: 0.6667\n",
      "Epoch 3/30\n",
      "1/1 [==============================] - 0s 2ms/step - loss: 0.6775 - accuracy: 1.0000\n",
      "Epoch 4/30\n",
      "1/1 [==============================] - 0s 3ms/step - loss: 0.6751 - accuracy: 1.0000\n",
      "Epoch 5/30\n",
      "1/1 [==============================] - 0s 2ms/step - loss: 0.6728 - accuracy: 1.0000\n",
      "Epoch 6/30\n",
      "1/1 [==============================] - 0s 2ms/step - loss: 0.6704 - accuracy: 1.0000\n",
      "Epoch 7/30\n",
      "1/1 [==============================] - 0s 2ms/step - loss: 0.6680 - accuracy: 1.0000\n",
      "Epoch 8/30\n",
      "1/1 [==============================] - 0s 3ms/step - loss: 0.6657 - accuracy: 1.0000\n",
      "Epoch 9/30\n",
      "1/1 [==============================] - 0s 3ms/step - loss: 0.6633 - accuracy: 1.0000\n",
      "Epoch 10/30\n",
      "1/1 [==============================] - 0s 2ms/step - loss: 0.6610 - accuracy: 1.0000\n",
      "Epoch 11/30\n",
      "1/1 [==============================] - 0s 3ms/step - loss: 0.6586 - accuracy: 1.0000\n",
      "Epoch 12/30\n",
      "1/1 [==============================] - 0s 3ms/step - loss: 0.6562 - accuracy: 1.0000\n",
      "Epoch 13/30\n",
      "1/1 [==============================] - 0s 2ms/step - loss: 0.6538 - accuracy: 1.0000\n",
      "Epoch 14/30\n",
      "1/1 [==============================] - 0s 2ms/step - loss: 0.6515 - accuracy: 1.0000\n",
      "Epoch 15/30\n",
      "1/1 [==============================] - 0s 4ms/step - loss: 0.6491 - accuracy: 1.0000\n",
      "Epoch 16/30\n",
      "1/1 [==============================] - 0s 2ms/step - loss: 0.6467 - accuracy: 1.0000\n",
      "Epoch 17/30\n",
      "1/1 [==============================] - 0s 3ms/step - loss: 0.6443 - accuracy: 1.0000\n",
      "Epoch 18/30\n",
      "1/1 [==============================] - 0s 2ms/step - loss: 0.6419 - accuracy: 1.0000\n",
      "Epoch 19/30\n",
      "1/1 [==============================] - 0s 2ms/step - loss: 0.6395 - accuracy: 1.0000\n",
      "Epoch 20/30\n",
      "1/1 [==============================] - 0s 2ms/step - loss: 0.6371 - accuracy: 1.0000\n",
      "Epoch 21/30\n",
      "1/1 [==============================] - 0s 2ms/step - loss: 0.6346 - accuracy: 1.0000\n",
      "Epoch 22/30\n",
      "1/1 [==============================] - 0s 3ms/step - loss: 0.6322 - accuracy: 1.0000\n",
      "Epoch 23/30\n",
      "1/1 [==============================] - 0s 3ms/step - loss: 0.6298 - accuracy: 1.0000\n",
      "Epoch 24/30\n",
      "1/1 [==============================] - 0s 3ms/step - loss: 0.6273 - accuracy: 1.0000\n",
      "Epoch 25/30\n",
      "1/1 [==============================] - 0s 2ms/step - loss: 0.6249 - accuracy: 1.0000\n",
      "Epoch 26/30\n",
      "1/1 [==============================] - 0s 997us/step - loss: 0.6224 - accuracy: 1.0000\n",
      "Epoch 27/30\n",
      "1/1 [==============================] - 0s 2ms/step - loss: 0.6200 - accuracy: 1.0000\n",
      "Epoch 28/30\n",
      "1/1 [==============================] - 0s 997us/step - loss: 0.6175 - accuracy: 1.0000\n",
      "Epoch 29/30\n",
      "1/1 [==============================] - 0s 2ms/step - loss: 0.6150 - accuracy: 1.0000\n",
      "Epoch 30/30\n",
      "1/1 [==============================] - 0s 2ms/step - loss: 0.6125 - accuracy: 1.0000\n"
     ]
    },
    {
     "data": {
      "text/plain": [
       "<keras.callbacks.History at 0x209964da6a0>"
      ]
     },
     "execution_count": 23,
     "metadata": {},
     "output_type": "execute_result"
    }
   ],
   "source": [
    "# fitting the model\n",
    "mymodel.fit(padded_sent, sent_labels, epochs=30)"
   ]
  },
  {
   "cell_type": "code",
   "execution_count": 25,
   "id": "3f30d61b",
   "metadata": {},
   "outputs": [
    {
     "name": "stdout",
     "output_type": "stream",
     "text": [
      "Accuracy:100.000000\n"
     ]
    }
   ],
   "source": [
    "# Evaluate the model\n",
    "modelloss, modelaccuracy = mymodel.evaluate(padded_sent, sent_labels, verbose=0)\n",
    "print('Accuracy:%f'%(modelaccuracy*100))"
   ]
  },
  {
   "cell_type": "markdown",
   "id": "801b7249",
   "metadata": {},
   "source": [
    "### The Prediction part"
   ]
  },
  {
   "cell_type": "code",
   "execution_count": 26,
   "id": "dc1c0e44",
   "metadata": {},
   "outputs": [],
   "source": [
    "mysent_to_predict = ['how are you suman',\n",
    "                    'I am good']"
   ]
  },
  {
   "cell_type": "code",
   "execution_count": 27,
   "id": "ff3a30b9",
   "metadata": {},
   "outputs": [
    {
     "name": "stdout",
     "output_type": "stream",
     "text": [
      "[[16, 7, 17, 12], [18, 29, 27]]\n"
     ]
    }
   ],
   "source": [
    "#integer code the documents\n",
    "vocab_size = 30\n",
    "encoded = [one_hot(d, vocab_size) for d in mysent_to_predict]\n",
    "print(encoded)"
   ]
  },
  {
   "cell_type": "code",
   "execution_count": 29,
   "id": "8a4a9a24",
   "metadata": {},
   "outputs": [
    {
     "name": "stdout",
     "output_type": "stream",
     "text": [
      "[[ 0 16  7 17 12]\n",
      " [ 0  0 18 29 27]]\n"
     ]
    }
   ],
   "source": [
    "#pad documents to a max length of 5 words\n",
    "max_length = 5\n",
    "mypadded = pad_sequences(encoded, maxlen=max_length, padding='pre')\n",
    "print(mypadded)"
   ]
  },
  {
   "cell_type": "code",
   "execution_count": 44,
   "id": "1452ddb7",
   "metadata": {},
   "outputs": [],
   "source": [
    "import numpy as np\n",
    "predict =((mymodel.predict(mypadded)>0.5).astype(\"int32\"))"
   ]
  },
  {
   "cell_type": "code",
   "execution_count": 45,
   "id": "5666b15e",
   "metadata": {},
   "outputs": [
    {
     "data": {
      "text/plain": [
       "array([[1],\n",
       "       [0]])"
      ]
     },
     "execution_count": 45,
     "metadata": {},
     "output_type": "execute_result"
    }
   ],
   "source": [
    "predict"
   ]
  },
  {
   "cell_type": "code",
   "execution_count": null,
   "id": "db1e6199",
   "metadata": {},
   "outputs": [],
   "source": []
  }
 ],
 "metadata": {
  "kernelspec": {
   "display_name": "Python 3",
   "language": "python",
   "name": "python3"
  },
  "language_info": {
   "codemirror_mode": {
    "name": "ipython",
    "version": 3
   },
   "file_extension": ".py",
   "mimetype": "text/x-python",
   "name": "python",
   "nbconvert_exporter": "python",
   "pygments_lexer": "ipython3",
   "version": "3.8.8"
  }
 },
 "nbformat": 4,
 "nbformat_minor": 5
}
