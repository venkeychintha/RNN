{
 "cells": [
  {
   "cell_type": "code",
   "execution_count": 1,
   "id": "8e0fe679",
   "metadata": {},
   "outputs": [],
   "source": [
    "import numpy as np\n",
    "from tensorflow.keras.preprocessing.text import one_hot\n",
    "from tensorflow.keras.layers import Embedding\n",
    "from tensorflow.keras.preprocessing.sequence import pad_sequences\n",
    "from tensorflow.keras.models import Sequential\n",
    "from tensorflow.keras.layers import Dense\n",
    "from tensorflow.keras.layers import Flatten"
   ]
  },
  {
   "cell_type": "code",
   "execution_count": 2,
   "id": "e32c8e1a",
   "metadata": {},
   "outputs": [],
   "source": [
    "reviews =['nice food',\n",
    "         'amazing restaurant',\n",
    "         'too good',\n",
    "         'just loved it!',\n",
    "         'will go gain',\n",
    "         'horrible food',\n",
    "         'never go their',\n",
    "         'poor service',\n",
    "         'poor quality',\n",
    "         'needs improvement']\n",
    "sentiment = np.array([1,1,1,1,1,0,0,0,0,0])"
   ]
  },
  {
   "cell_type": "code",
   "execution_count": 3,
   "id": "77e617d1",
   "metadata": {},
   "outputs": [
    {
     "data": {
      "text/plain": [
       "[[13, 24],\n",
       " [9, 19],\n",
       " [22, 28],\n",
       " [8, 17, 3],\n",
       " [21, 21, 20],\n",
       " [12, 24],\n",
       " [19, 21, 19],\n",
       " [14, 22],\n",
       " [14, 20],\n",
       " [5, 11]]"
      ]
     },
     "execution_count": 3,
     "metadata": {},
     "output_type": "execute_result"
    }
   ],
   "source": [
    "vocab_size = 30\n",
    "encoded_reviews = [one_hot(d, vocab_size)for d in reviews]\n",
    "encoded_reviews"
   ]
  },
  {
   "cell_type": "code",
   "execution_count": 4,
   "id": "e78d79ad",
   "metadata": {},
   "outputs": [
    {
     "data": {
      "text/plain": [
       "array([[13, 24,  0,  0],\n",
       "       [ 9, 19,  0,  0],\n",
       "       [22, 28,  0,  0],\n",
       "       [ 8, 17,  3,  0],\n",
       "       [21, 21, 20,  0],\n",
       "       [12, 24,  0,  0],\n",
       "       [19, 21, 19,  0],\n",
       "       [14, 22,  0,  0],\n",
       "       [14, 20,  0,  0],\n",
       "       [ 5, 11,  0,  0]])"
      ]
     },
     "execution_count": 4,
     "metadata": {},
     "output_type": "execute_result"
    }
   ],
   "source": [
    "max_length = 4\n",
    "padded_reviews = pad_sequences(encoded_reviews, maxlen=max_length, padding='post')\n",
    "padded_reviews"
   ]
  },
  {
   "cell_type": "code",
   "execution_count": 5,
   "id": "d68940c6",
   "metadata": {},
   "outputs": [],
   "source": [
    "embeded_vector_size = 5\n",
    "\n",
    "model = Sequential()\n",
    "model.add(Embedding(vocab_size, embeded_vector_size, input_length=max_length, name='embedding'))\n",
    "model.add(Flatten())\n",
    "model.add(Dense(1, activation='sigmoid'))"
   ]
  },
  {
   "cell_type": "code",
   "execution_count": 6,
   "id": "cb6a6ce0",
   "metadata": {},
   "outputs": [],
   "source": [
    "X = padded_reviews\n",
    "y = sentiment"
   ]
  },
  {
   "cell_type": "code",
   "execution_count": 7,
   "id": "efdf9e50",
   "metadata": {},
   "outputs": [
    {
     "name": "stdout",
     "output_type": "stream",
     "text": [
      "Model: \"sequential\"\n",
      "_________________________________________________________________\n",
      "Layer (type)                 Output Shape              Param #   \n",
      "=================================================================\n",
      "embedding (Embedding)        (None, 4, 5)              150       \n",
      "_________________________________________________________________\n",
      "flatten (Flatten)            (None, 20)                0         \n",
      "_________________________________________________________________\n",
      "dense (Dense)                (None, 1)                 21        \n",
      "=================================================================\n",
      "Total params: 171\n",
      "Trainable params: 171\n",
      "Non-trainable params: 0\n",
      "_________________________________________________________________\n"
     ]
    }
   ],
   "source": [
    "model.compile(optimizer='adam', loss='binary_crossentropy', metrics=['accuracy'])\n",
    "model.summary()"
   ]
  },
  {
   "cell_type": "code",
   "execution_count": 8,
   "id": "f376ac5b",
   "metadata": {},
   "outputs": [
    {
     "data": {
      "text/plain": [
       "<keras.callbacks.History at 0x16c18f9bfd0>"
      ]
     },
     "execution_count": 8,
     "metadata": {},
     "output_type": "execute_result"
    }
   ],
   "source": [
    "model.fit(X,y, epochs=50, verbose=0)"
   ]
  },
  {
   "cell_type": "code",
   "execution_count": 9,
   "id": "f1f686fd",
   "metadata": {},
   "outputs": [
    {
     "name": "stdout",
     "output_type": "stream",
     "text": [
      "1/1 [==============================] - 0s 308ms/step - loss: 0.6403 - accuracy: 1.0000\n"
     ]
    },
    {
     "data": {
      "text/plain": [
       "1.0"
      ]
     },
     "execution_count": 9,
     "metadata": {},
     "output_type": "execute_result"
    }
   ],
   "source": [
    "loss, accuracy = model.evaluate(X,y)\n",
    "accuracy"
   ]
  },
  {
   "cell_type": "code",
   "execution_count": 12,
   "id": "9ba974e9",
   "metadata": {},
   "outputs": [
    {
     "data": {
      "text/plain": [
       "array([[-0.03084739, -0.0613312 , -0.02237623, -0.07257037, -0.02100234],\n",
       "       [ 0.049535  ,  0.0341311 , -0.01143591,  0.02552456,  0.01103712],\n",
       "       [ 0.03533758,  0.03344348, -0.01499534, -0.02671777,  0.04124557],\n",
       "       [ 0.0021393 ,  0.0063066 ,  0.09029645,  0.0248194 ,  0.00479714],\n",
       "       [-0.02331606, -0.01816975, -0.02646219,  0.01949502,  0.01790842],\n",
       "       [-0.00449317,  0.0150973 , -0.07378511, -0.00759497, -0.08679389],\n",
       "       [ 0.02257245, -0.04011675, -0.03404178, -0.0468586 ,  0.0293037 ],\n",
       "       [-0.03699682,  0.04254173,  0.00697057, -0.02694331, -0.02840623],\n",
       "       [ 0.04351164, -0.01325487,  0.0939906 ,  0.07874104,  0.08148712],\n",
       "       [ 0.05381473, -0.0177476 ,  0.01113612,  0.07742319,  0.01505424],\n",
       "       [-0.03710346,  0.04917438,  0.00136663,  0.03812711,  0.02472634],\n",
       "       [ 0.06122091,  0.09129803, -0.02250154,  0.09165137, -0.05966406],\n",
       "       [-0.06203581,  0.02144977, -0.02280871, -0.0142527 , -0.04974744],\n",
       "       [ 0.07400556, -0.0734662 ,  0.02288556,  0.09413833,  0.01740247],\n",
       "       [-0.04864592,  0.05561868, -0.09301723, -0.08384287, -0.07317749],\n",
       "       [-0.00951921,  0.03705883, -0.02437732,  0.01138369, -0.0236668 ],\n",
       "       [-0.00981079, -0.03555269,  0.00211111,  0.03232198, -0.0036901 ],\n",
       "       [-0.03847862, -0.01886558,  0.03099802, -0.07558788,  0.0487738 ],\n",
       "       [ 0.04737392, -0.03325218,  0.0409243 ,  0.02726035, -0.0373723 ],\n",
       "       [-0.0818451 , -0.05242464, -0.04876393, -0.01332599,  0.02250713],\n",
       "       [ 0.05193168,  0.07699125, -0.00763617,  0.01185276, -0.09841011],\n",
       "       [ 0.00655356, -0.02621641,  0.07035971,  0.04565472,  0.02571006],\n",
       "       [ 0.10042419,  0.00385274,  0.00956658,  0.04426878, -0.03155769],\n",
       "       [-0.01995665, -0.03390511,  0.02737094,  0.01063079, -0.04149213],\n",
       "       [ 0.01010923,  0.03639952,  0.05150802,  0.00246155,  0.00824313],\n",
       "       [-0.00960219, -0.03291853, -0.03756026,  0.02215226,  0.01927521],\n",
       "       [-0.04802622, -0.01050897, -0.04954263, -0.01870156,  0.04821071],\n",
       "       [-0.01309531,  0.00389975,  0.04971751,  0.03195851,  0.01005717],\n",
       "       [-0.0547984 , -0.05197113,  0.09635414, -0.05390856,  0.08761816],\n",
       "       [-0.02024351, -0.01487125,  0.01157619, -0.00711847,  0.01296807]],\n",
       "      dtype=float32)"
      ]
     },
     "execution_count": 12,
     "metadata": {},
     "output_type": "execute_result"
    }
   ],
   "source": [
    "model.get_layer('embedding').get_weights()[0]"
   ]
  },
  {
   "cell_type": "code",
   "execution_count": 13,
   "id": "53fc0d28",
   "metadata": {},
   "outputs": [
    {
     "data": {
      "text/plain": [
       "30"
      ]
     },
     "execution_count": 13,
     "metadata": {},
     "output_type": "execute_result"
    }
   ],
   "source": [
    "weights = model.get_layer('embedding').get_weights()[0]\n",
    "len(weights)"
   ]
  },
  {
   "cell_type": "code",
   "execution_count": 15,
   "id": "c6bb5a41",
   "metadata": {},
   "outputs": [
    {
     "data": {
      "text/plain": [
       "array([ 0.07400556, -0.0734662 ,  0.02288556,  0.09413833,  0.01740247],\n",
       "      dtype=float32)"
      ]
     },
     "execution_count": 15,
     "metadata": {},
     "output_type": "execute_result"
    }
   ],
   "source": [
    "weights[13]"
   ]
  },
  {
   "cell_type": "code",
   "execution_count": 16,
   "id": "bee1dde3",
   "metadata": {},
   "outputs": [
    {
     "data": {
      "text/plain": [
       "array([ 0.05381473, -0.0177476 ,  0.01113612,  0.07742319,  0.01505424],\n",
       "      dtype=float32)"
      ]
     },
     "execution_count": 16,
     "metadata": {},
     "output_type": "execute_result"
    }
   ],
   "source": [
    "weights[9]"
   ]
  },
  {
   "cell_type": "code",
   "execution_count": null,
   "id": "bab58d23",
   "metadata": {},
   "outputs": [],
   "source": []
  }
 ],
 "metadata": {
  "kernelspec": {
   "display_name": "Python 3",
   "language": "python",
   "name": "python3"
  },
  "language_info": {
   "codemirror_mode": {
    "name": "ipython",
    "version": 3
   },
   "file_extension": ".py",
   "mimetype": "text/x-python",
   "name": "python",
   "nbconvert_exporter": "python",
   "pygments_lexer": "ipython3",
   "version": "3.8.8"
  }
 },
 "nbformat": 4,
 "nbformat_minor": 5
}
